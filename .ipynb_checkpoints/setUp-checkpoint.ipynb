{
 "cells": [
  {
   "cell_type": "code",
   "execution_count": 1,
   "id": "3d3e8bfa-181a-4959-9064-f4be3a0ea1a7",
   "metadata": {},
   "outputs": [],
   "source": [
    "# Import libraries\n",
    "from typing import Any\n",
    "import pyspark\n",
    "from pyspark.sql import SparkSession\n",
    "import pyspark.sql.functions as F\n",
    "from whylogs.api.pyspark.experimental import collect_column_profile_views\n",
    "from whylogs.api.pyspark.experimental import collect_dataset_profile_view\n",
    "from whylogs.core.metrics.condition_count_metric import Condition\n",
    "from whylogs.core.relations import Predicate\n",
    "from whylogs.core.schema import DeclarativeSchema\n",
    "from whylogs.core.resolvers import STANDARD_RESOLVER\n",
    "from whylogs.core.specialized_resolvers import ConditionCountMetricSpec\n",
    "from whylogs.core.constraints.factories import condition_meets\n",
    "from whylogs.core.constraints import ConstraintsBuilder\n",
    "from whylogs.core.constraints.factories import no_missing_values\n",
    "from whylogs.core.constraints.factories import greater_than_number\n",
    "from whylogs.viz import NotebookProfileVisualizer\n",
    "import pandas as pd\n",
    "import datetime"
   ]
  },
  {
   "cell_type": "code",
   "execution_count": null,
   "id": "faef7d6a-585b-4380-9d5d-6e7d6c6e56bf",
   "metadata": {},
   "outputs": [],
   "source": [
    "https://github.com/KimberlyAng/whylogs.git\n"
   ]
  }
 ],
 "metadata": {
  "kernelspec": {
   "display_name": "Python 3 (ipykernel)",
   "language": "python",
   "name": "python3"
  },
  "language_info": {
   "codemirror_mode": {
    "name": "ipython",
    "version": 3
   },
   "file_extension": ".py",
   "mimetype": "text/x-python",
   "name": "python",
   "nbconvert_exporter": "python",
   "pygments_lexer": "ipython3",
   "version": "3.11.10"
  }
 },
 "nbformat": 4,
 "nbformat_minor": 5
}
