{
 "cells": [
  {
   "cell_type": "code",
   "execution_count": 3,
   "id": "3d3e8bfa-181a-4959-9064-f4be3a0ea1a7",
   "metadata": {},
   "outputs": [],
   "source": [
    "# Import libraries\n",
    "from typing import Any\n",
    "import pyspark\n",
    "from pyspark.sql import SparkSession\n",
    "import pyspark.sql.functions as F\n",
    "from whylogs.api.pyspark.experimental import collect_column_profile_views\n",
    "from whylogs.api.pyspark.experimental import collect_dataset_profile_view\n",
    "from whylogs.core.metrics.condition_count_metric import Condition\n",
    "from whylogs.core.relations import Predicate\n",
    "from whylogs.core.schema import DeclarativeSchema\n",
    "from whylogs.core.resolvers import STANDARD_RESOLVER\n",
    "from whylogs.core.specialized_resolvers import ConditionCountMetricSpec\n",
    "from whylogs.core.constraints.factories import condition_meets\n",
    "from whylogs.core.constraints import ConstraintsBuilder\n",
    "from whylogs.core.constraints.factories import no_missing_values\n",
    "from whylogs.core.constraints.factories import greater_than_number\n",
    "from whylogs.viz import NotebookProfileVisualizer\n",
    "import pandas as pd\n",
    "import datetime"
   ]
  },
  {
   "cell_type": "code",
   "execution_count": 4,
   "id": "faef7d6a-585b-4380-9d5d-6e7d6c6e56bf",
   "metadata": {},
   "outputs": [],
   "source": [
    "# initialize sparkSession\n",
    "spark = SparkSession.builder.appName('whylogs').getOrCreate()\n",
    "spark.conf.set(\"spark.sql.execution.arrow.pyspark.enabled\",\"true\")"
   ]
  },
  {
   "cell_type": "code",
   "execution_count": 5,
   "id": "ed063c0b-79fd-46df-92ab-a3f313bf645d",
   "metadata": {},
   "outputs": [
    {
     "name": "stdout",
     "output_type": "stream",
     "text": [
      "root\n",
      " |-- patient_id: integer (nullable = true)\n",
      " |-- patient_name: string (nullable = true)\n",
      " |-- height: integer (nullable = true)\n",
      " |-- weight: integer (nullable = true)\n",
      " |-- visit_date: string (nullable = true)\n",
      "\n"
     ]
    }
   ],
   "source": [
    "df = spark.read.option(\"header\",True).option(\"inferSchema\",True).csv(\"patient_data.csv\")\n",
    "df.printSchema()"
   ]
  },
  {
   "cell_type": "code",
   "execution_count": 6,
   "id": "de0129a1-de46-4078-9f92-534beb538181",
   "metadata": {},
   "outputs": [
    {
     "name": "stdout",
     "output_type": "stream",
     "text": [
      "-RECORD 0---------------------\n",
      " patient_id   | 8286975       \n",
      " patient_name | Jane Davis    \n",
      " height       | 170           \n",
      " weight       | 97            \n",
      " visit_date   | 2023-04-19    \n",
      "-RECORD 1---------------------\n",
      " patient_id   | 2130375       \n",
      " patient_name | Michael Brown \n",
      " height       | 150           \n",
      " weight       | 62            \n",
      " visit_date   | 2021-11-30    \n",
      "only showing top 2 rows\n",
      "\n"
     ]
    }
   ],
   "source": [
    "df.show(n=2, vertical=True)"
   ]
  },
  {
   "cell_type": "code",
   "execution_count": 8,
   "id": "325992b1-36ce-466e-9c2e-70b345d58217",
   "metadata": {},
   "outputs": [
    {
     "name": "stdout",
     "output_type": "stream",
     "text": [
      "{'height': <whylogs.core.view.column_profile_view.ColumnProfileView object at 0x7fba3560c890>, 'patient_id': <whylogs.core.view.column_profile_view.ColumnProfileView object at 0x7fba355f7450>, 'patient_name': <whylogs.core.view.column_profile_view.ColumnProfileView object at 0x7fb9d0bf9950>, 'visit_date': <whylogs.core.view.column_profile_view.ColumnProfileView object at 0x7fba355fd490>, 'weight': <whylogs.core.view.column_profile_view.ColumnProfileView object at 0x7fba3560e4d0>}\n"
     ]
    }
   ],
   "source": [
    "df_profile = collect_column_profile_views(df)\n",
    "print(df_profile)"
   ]
  },
  {
   "cell_type": "code",
   "execution_count": 12,
   "id": "0382fc2b-7850-43d3-9c72-347b81b30cbc",
   "metadata": {},
   "outputs": [
    {
     "data": {
      "text/plain": [
       "174.98855"
      ]
     },
     "execution_count": 12,
     "metadata": {},
     "output_type": "execute_result"
    }
   ],
   "source": [
    "# average height\n",
    "df_profile[\"height\"].get_metric(\"distribution\").mean.value"
   ]
  },
  {
   "cell_type": "code",
   "execution_count": 13,
   "id": "d5996012-df74-4df0-8851-0b0eff215853",
   "metadata": {},
   "outputs": [
    {
     "name": "stdout",
     "output_type": "stream",
     "text": [
      "+-----------+\n",
      "|avg(height)|\n",
      "+-----------+\n",
      "|  174.98855|\n",
      "+-----------+\n",
      "\n"
     ]
    }
   ],
   "source": [
    "# average height using dataframe \n",
    "df.select(F.mean(F.col(\"height\"))).show()"
   ]
  },
  {
   "cell_type": "code",
   "execution_count": 14,
   "id": "cdc786a0-0713-494d-835f-cb128297b7d4",
   "metadata": {},
   "outputs": [
    {
     "data": {
      "text/html": [
       "<div>\n",
       "<style scoped>\n",
       "    .dataframe tbody tr th:only-of-type {\n",
       "        vertical-align: middle;\n",
       "    }\n",
       "\n",
       "    .dataframe tbody tr th {\n",
       "        vertical-align: top;\n",
       "    }\n",
       "\n",
       "    .dataframe thead th {\n",
       "        text-align: right;\n",
       "    }\n",
       "</style>\n",
       "<table border=\"1\" class=\"dataframe\">\n",
       "  <thead>\n",
       "    <tr style=\"text-align: right;\">\n",
       "      <th></th>\n",
       "      <th>cardinality/est</th>\n",
       "      <th>cardinality/lower_1</th>\n",
       "      <th>cardinality/upper_1</th>\n",
       "      <th>counts/inf</th>\n",
       "      <th>counts/n</th>\n",
       "      <th>counts/nan</th>\n",
       "      <th>counts/null</th>\n",
       "      <th>counts/true</th>\n",
       "      <th>distribution/max</th>\n",
       "      <th>distribution/mean</th>\n",
       "      <th>...</th>\n",
       "      <th>frequent_items/frequent_strings</th>\n",
       "      <th>ints/max</th>\n",
       "      <th>ints/min</th>\n",
       "      <th>type</th>\n",
       "      <th>types/boolean</th>\n",
       "      <th>types/fractional</th>\n",
       "      <th>types/integral</th>\n",
       "      <th>types/object</th>\n",
       "      <th>types/string</th>\n",
       "      <th>types/tensor</th>\n",
       "    </tr>\n",
       "    <tr>\n",
       "      <th>column</th>\n",
       "      <th></th>\n",
       "      <th></th>\n",
       "      <th></th>\n",
       "      <th></th>\n",
       "      <th></th>\n",
       "      <th></th>\n",
       "      <th></th>\n",
       "      <th></th>\n",
       "      <th></th>\n",
       "      <th></th>\n",
       "      <th></th>\n",
       "      <th></th>\n",
       "      <th></th>\n",
       "      <th></th>\n",
       "      <th></th>\n",
       "      <th></th>\n",
       "      <th></th>\n",
       "      <th></th>\n",
       "      <th></th>\n",
       "      <th></th>\n",
       "      <th></th>\n",
       "    </tr>\n",
       "  </thead>\n",
       "  <tbody>\n",
       "    <tr>\n",
       "      <th>height</th>\n",
       "      <td>51.000006</td>\n",
       "      <td>51.000000</td>\n",
       "      <td>51.002553</td>\n",
       "      <td>0</td>\n",
       "      <td>100000</td>\n",
       "      <td>0</td>\n",
       "      <td>0</td>\n",
       "      <td>0</td>\n",
       "      <td>200.0</td>\n",
       "      <td>1.749886e+02</td>\n",
       "      <td>...</td>\n",
       "      <td>[FrequentItem(value='174', est=2203, upper=220...</td>\n",
       "      <td>200.0</td>\n",
       "      <td>150.0</td>\n",
       "      <td>SummaryType.COLUMN</td>\n",
       "      <td>0</td>\n",
       "      <td>0</td>\n",
       "      <td>100000</td>\n",
       "      <td>0</td>\n",
       "      <td>0</td>\n",
       "      <td>0</td>\n",
       "    </tr>\n",
       "    <tr>\n",
       "      <th>patient_id</th>\n",
       "      <td>9624.479972</td>\n",
       "      <td>9471.462071</td>\n",
       "      <td>9782.831357</td>\n",
       "      <td>0</td>\n",
       "      <td>100000</td>\n",
       "      <td>0</td>\n",
       "      <td>0</td>\n",
       "      <td>0</td>\n",
       "      <td>9998201.0</td>\n",
       "      <td>5.441664e+06</td>\n",
       "      <td>...</td>\n",
       "      <td>[]</td>\n",
       "      <td>9998201.0</td>\n",
       "      <td>1000595.0</td>\n",
       "      <td>SummaryType.COLUMN</td>\n",
       "      <td>0</td>\n",
       "      <td>0</td>\n",
       "      <td>100000</td>\n",
       "      <td>0</td>\n",
       "      <td>0</td>\n",
       "      <td>0</td>\n",
       "    </tr>\n",
       "    <tr>\n",
       "      <th>patient_name</th>\n",
       "      <td>100.000025</td>\n",
       "      <td>100.000000</td>\n",
       "      <td>100.005018</td>\n",
       "      <td>0</td>\n",
       "      <td>100000</td>\n",
       "      <td>0</td>\n",
       "      <td>0</td>\n",
       "      <td>0</td>\n",
       "      <td>NaN</td>\n",
       "      <td>0.000000e+00</td>\n",
       "      <td>...</td>\n",
       "      <td>[FrequentItem(value='Robert Williams', est=125...</td>\n",
       "      <td>NaN</td>\n",
       "      <td>NaN</td>\n",
       "      <td>SummaryType.COLUMN</td>\n",
       "      <td>0</td>\n",
       "      <td>0</td>\n",
       "      <td>0</td>\n",
       "      <td>0</td>\n",
       "      <td>100000</td>\n",
       "      <td>0</td>\n",
       "    </tr>\n",
       "    <tr>\n",
       "      <th>visit_date</th>\n",
       "      <td>2230.288911</td>\n",
       "      <td>2194.829943</td>\n",
       "      <td>2266.983812</td>\n",
       "      <td>0</td>\n",
       "      <td>100000</td>\n",
       "      <td>0</td>\n",
       "      <td>0</td>\n",
       "      <td>0</td>\n",
       "      <td>NaN</td>\n",
       "      <td>0.000000e+00</td>\n",
       "      <td>...</td>\n",
       "      <td>[]</td>\n",
       "      <td>NaN</td>\n",
       "      <td>NaN</td>\n",
       "      <td>SummaryType.COLUMN</td>\n",
       "      <td>0</td>\n",
       "      <td>0</td>\n",
       "      <td>0</td>\n",
       "      <td>0</td>\n",
       "      <td>100000</td>\n",
       "      <td>0</td>\n",
       "    </tr>\n",
       "    <tr>\n",
       "      <th>weight</th>\n",
       "      <td>56.000008</td>\n",
       "      <td>56.000000</td>\n",
       "      <td>56.002804</td>\n",
       "      <td>0</td>\n",
       "      <td>100000</td>\n",
       "      <td>0</td>\n",
       "      <td>0</td>\n",
       "      <td>0</td>\n",
       "      <td>102.0</td>\n",
       "      <td>7.360038e+01</td>\n",
       "      <td>...</td>\n",
       "      <td>[FrequentItem(value='55', est=2107, upper=2107...</td>\n",
       "      <td>102.0</td>\n",
       "      <td>0.0</td>\n",
       "      <td>SummaryType.COLUMN</td>\n",
       "      <td>0</td>\n",
       "      <td>0</td>\n",
       "      <td>100000</td>\n",
       "      <td>0</td>\n",
       "      <td>0</td>\n",
       "      <td>0</td>\n",
       "    </tr>\n",
       "  </tbody>\n",
       "</table>\n",
       "<p>5 rows × 32 columns</p>\n",
       "</div>"
      ],
      "text/plain": [
       "              cardinality/est  cardinality/lower_1  cardinality/upper_1  \\\n",
       "column                                                                    \n",
       "height              51.000006            51.000000            51.002553   \n",
       "patient_id        9624.479972          9471.462071          9782.831357   \n",
       "patient_name       100.000025           100.000000           100.005018   \n",
       "visit_date        2230.288911          2194.829943          2266.983812   \n",
       "weight              56.000008            56.000000            56.002804   \n",
       "\n",
       "              counts/inf  counts/n  counts/nan  counts/null  counts/true  \\\n",
       "column                                                                     \n",
       "height                 0    100000           0            0            0   \n",
       "patient_id             0    100000           0            0            0   \n",
       "patient_name           0    100000           0            0            0   \n",
       "visit_date             0    100000           0            0            0   \n",
       "weight                 0    100000           0            0            0   \n",
       "\n",
       "              distribution/max  distribution/mean  ...  \\\n",
       "column                                             ...   \n",
       "height                   200.0       1.749886e+02  ...   \n",
       "patient_id           9998201.0       5.441664e+06  ...   \n",
       "patient_name               NaN       0.000000e+00  ...   \n",
       "visit_date                 NaN       0.000000e+00  ...   \n",
       "weight                   102.0       7.360038e+01  ...   \n",
       "\n",
       "                                frequent_items/frequent_strings   ints/max  \\\n",
       "column                                                                       \n",
       "height        [FrequentItem(value='174', est=2203, upper=220...      200.0   \n",
       "patient_id                                                   []  9998201.0   \n",
       "patient_name  [FrequentItem(value='Robert Williams', est=125...        NaN   \n",
       "visit_date                                                   []        NaN   \n",
       "weight        [FrequentItem(value='55', est=2107, upper=2107...      102.0   \n",
       "\n",
       "               ints/min                type  types/boolean  types/fractional  \\\n",
       "column                                                                         \n",
       "height            150.0  SummaryType.COLUMN              0                 0   \n",
       "patient_id    1000595.0  SummaryType.COLUMN              0                 0   \n",
       "patient_name        NaN  SummaryType.COLUMN              0                 0   \n",
       "visit_date          NaN  SummaryType.COLUMN              0                 0   \n",
       "weight              0.0  SummaryType.COLUMN              0                 0   \n",
       "\n",
       "              types/integral  types/object  types/string  types/tensor  \n",
       "column                                                                  \n",
       "height                100000             0             0             0  \n",
       "patient_id            100000             0             0             0  \n",
       "patient_name               0             0        100000             0  \n",
       "visit_date                 0             0        100000             0  \n",
       "weight                100000             0             0             0  \n",
       "\n",
       "[5 rows x 32 columns]"
      ]
     },
     "execution_count": 14,
     "metadata": {},
     "output_type": "execute_result"
    }
   ],
   "source": [
    "# compile profile view\n",
    "df_profile_view = collect_dataset_profile_view(input_df=df)\n",
    "df_profile_view.to_pandas().head()"
   ]
  },
  {
   "cell_type": "code",
   "execution_count": 15,
   "id": "fca6431d-d77b-4742-b7b9-c53c9899657d",
   "metadata": {},
   "outputs": [],
   "source": [
    "# persist profile as a file\n",
    "df_profile_view.to_pandas().reset_index().to_csv(\"patient_profile.csv\")"
   ]
  },
  {
   "cell_type": "code",
   "execution_count": null,
   "id": "25161c1b-ed9e-48f7-96fc-f2ff57089e35",
   "metadata": {},
   "outputs": [],
   "source": []
  }
 ],
 "metadata": {
  "kernelspec": {
   "display_name": "Python 3 (ipykernel)",
   "language": "python",
   "name": "python3"
  },
  "language_info": {
   "codemirror_mode": {
    "name": "ipython",
    "version": 3
   },
   "file_extension": ".py",
   "mimetype": "text/x-python",
   "name": "python",
   "nbconvert_exporter": "python",
   "pygments_lexer": "ipython3",
   "version": "3.11.10"
  }
 },
 "nbformat": 4,
 "nbformat_minor": 5
}
