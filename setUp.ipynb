{
 "cells": [
  {
   "cell_type": "code",
   "execution_count": 2,
   "id": "3d3e8bfa-181a-4959-9064-f4be3a0ea1a7",
   "metadata": {},
   "outputs": [],
   "source": [
    "# Import libraries\n",
    "from typing import Any\n",
    "import pyspark\n",
    "from pyspark.sql import SparkSession\n",
    "import pyspark.sql.functions as F\n",
    "from whylogs.api.pyspark.experimental import collect_column_profile_views\n",
    "from whylogs.api.pyspark.experimental import collect_dataset_profile_view\n",
    "from whylogs.core.metrics.condition_count_metric import Condition\n",
    "from whylogs.core.relations import Predicate\n",
    "from whylogs.core.schema import DeclarativeSchema\n",
    "from whylogs.core.resolvers import STANDARD_RESOLVER\n",
    "from whylogs.core.specialized_resolvers import ConditionCountMetricSpec\n",
    "from whylogs.core.constraints.factories import condition_meets\n",
    "from whylogs.core.constraints import ConstraintsBuilder\n",
    "from whylogs.core.constraints.factories import no_missing_values\n",
    "from whylogs.core.constraints.factories import greater_than_number\n",
    "from whylogs.viz import NotebookProfileVisualizer\n",
    "import pandas as pd\n",
    "import datetime"
   ]
  },
  {
   "cell_type": "code",
   "execution_count": 3,
   "id": "faef7d6a-585b-4380-9d5d-6e7d6c6e56bf",
   "metadata": {},
   "outputs": [],
   "source": [
    "# initialize sparkSession\n",
    "spark = SparkSession.builder.appName('whylogs').getOrCreate()\n",
    "spark.conf.set(\"spark.sql.execution.arrow.pyspark.enabled\",\"true\")"
   ]
  },
  {
   "cell_type": "code",
   "execution_count": 4,
   "id": "ed063c0b-79fd-46df-92ab-a3f313bf645d",
   "metadata": {},
   "outputs": [
    {
     "name": "stdout",
     "output_type": "stream",
     "text": [
      "root\n",
      " |-- patient_id: integer (nullable = true)\n",
      " |-- patient_name: string (nullable = true)\n",
      " |-- height: integer (nullable = true)\n",
      " |-- weight: integer (nullable = true)\n",
      " |-- visit_date: string (nullable = true)\n",
      "\n"
     ]
    }
   ],
   "source": [
    "df = spark.read.option(\"header\",True).option(\"inferSchema\",True).csv(\"patient_data.csv\")\n",
    "df.printSchema()"
   ]
  },
  {
   "cell_type": "code",
   "execution_count": 5,
   "id": "de0129a1-de46-4078-9f92-534beb538181",
   "metadata": {},
   "outputs": [
    {
     "name": "stdout",
     "output_type": "stream",
     "text": [
      "-RECORD 0---------------------\n",
      " patient_id   | 8286975       \n",
      " patient_name | Jane Davis    \n",
      " height       | 170           \n",
      " weight       | 97            \n",
      " visit_date   | 2023-04-19    \n",
      "-RECORD 1---------------------\n",
      " patient_id   | 2130375       \n",
      " patient_name | Michael Brown \n",
      " height       | 150           \n",
      " weight       | 62            \n",
      " visit_date   | 2021-11-30    \n",
      "only showing top 2 rows\n",
      "\n"
     ]
    }
   ],
   "source": [
    "df.show(n=2, vertical=True)"
   ]
  },
  {
   "cell_type": "code",
   "execution_count": null,
   "id": "325992b1-36ce-466e-9c2e-70b345d58217",
   "metadata": {},
   "outputs": [],
   "source": []
  }
 ],
 "metadata": {
  "kernelspec": {
   "display_name": "Python 3 (ipykernel)",
   "language": "python",
   "name": "python3"
  },
  "language_info": {
   "codemirror_mode": {
    "name": "ipython",
    "version": 3
   },
   "file_extension": ".py",
   "mimetype": "text/x-python",
   "name": "python",
   "nbconvert_exporter": "python",
   "pygments_lexer": "ipython3",
   "version": "3.11.10"
  }
 },
 "nbformat": 4,
 "nbformat_minor": 5
}
