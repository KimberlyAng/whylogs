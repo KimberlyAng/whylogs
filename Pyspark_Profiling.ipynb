{
 "cells": [
  {
   "cell_type": "code",
   "execution_count": 1,
   "id": "a5f411eb-b858-4b2b-bf1a-fee8057dfaa8",
   "metadata": {},
   "outputs": [],
   "source": [
    "from pyspark.sql import SparkSession"
   ]
  },
  {
   "cell_type": "code",
   "execution_count": 2,
   "id": "72888c28-98db-4859-a5df-e8c31f8f6821",
   "metadata": {},
   "outputs": [],
   "source": [
    "spark = SparkSession.builder.appName('whylogs-testing').getOrCreate()\n",
    "arrow_config_key = \"spark.sql.execution.arrow.pyspark.enabled\"\n",
    "spark.conf.set(arrow_config_key, \"true\")"
   ]
  },
  {
   "cell_type": "code",
   "execution_count": 4,
   "id": "8b2c0a7f-f76b-4290-9995-947c0bacae7e",
   "metadata": {},
   "outputs": [],
   "source": [
    "from pyspark import SparkFiles\n",
    "\n",
    "data_url = \"https://archive.ics.uci.edu/ml/machine-learning-databases/wine-quality/winequality-red.csv\"\n",
    "spark.sparkContext.addFile(data_url)"
   ]
  },
  {
   "cell_type": "code",
   "execution_count": 5,
   "id": "c0013f1c-770c-4b72-ba7b-76c42160ac5b",
   "metadata": {},
   "outputs": [],
   "source": [
    "spark_dataframe = spark.read.option(\"delimiter\", \";\").option(\"inferSchema\", \"true\").csv(SparkFiles.get(\"winequality-red.csv\"), header=True)"
   ]
  },
  {
   "cell_type": "code",
   "execution_count": 8,
   "id": "dc5eda22-4064-4656-938c-cf819881100b",
   "metadata": {},
   "outputs": [
    {
     "name": "stdout",
     "output_type": "stream",
     "text": [
      "-RECORD 0----------------------\n",
      " fixed acidity        | 7.4    \n",
      " volatile acidity     | 0.7    \n",
      " citric acid          | 0.0    \n",
      " residual sugar       | 1.9    \n",
      " chlorides            | 0.076  \n",
      " free sulfur dioxide  | 11.0   \n",
      " total sulfur dioxide | 34.0   \n",
      " density              | 0.9978 \n",
      " pH                   | 3.51   \n",
      " sulphates            | 0.56   \n",
      " alcohol              | 9.4    \n",
      " quality              | 5      \n",
      "only showing top 1 row\n",
      "\n"
     ]
    }
   ],
   "source": [
    "spark_dataframe.show(n=1, vertical=True)"
   ]
  },
  {
   "cell_type": "code",
   "execution_count": 9,
   "id": "b11c2c98-3565-4d98-a86a-02e198dd68c9",
   "metadata": {},
   "outputs": [
    {
     "name": "stdout",
     "output_type": "stream",
     "text": [
      "root\n",
      " |-- fixed acidity: double (nullable = true)\n",
      " |-- volatile acidity: double (nullable = true)\n",
      " |-- citric acid: double (nullable = true)\n",
      " |-- residual sugar: double (nullable = true)\n",
      " |-- chlorides: double (nullable = true)\n",
      " |-- free sulfur dioxide: double (nullable = true)\n",
      " |-- total sulfur dioxide: double (nullable = true)\n",
      " |-- density: double (nullable = true)\n",
      " |-- pH: double (nullable = true)\n",
      " |-- sulphates: double (nullable = true)\n",
      " |-- alcohol: double (nullable = true)\n",
      " |-- quality: integer (nullable = true)\n",
      "\n"
     ]
    }
   ],
   "source": [
    "spark_dataframe.printSchema()"
   ]
  },
  {
   "cell_type": "code",
   "execution_count": 10,
   "id": "87fd10f1-16fb-4a5f-948e-028f1f05679e",
   "metadata": {},
   "outputs": [],
   "source": [
    "from whylogs.api.pyspark.experimental import collect_column_profile_views\n",
    "column_views_dict = collect_column_profile_views(spark_dataframe)"
   ]
  },
  {
   "cell_type": "code",
   "execution_count": 11,
   "id": "6d6bf1de-5fbb-466f-ad1c-82f399e379df",
   "metadata": {},
   "outputs": [
    {
     "name": "stdout",
     "output_type": "stream",
     "text": [
      "{'alcohol': <whylogs.core.view.column_profile_view.ColumnProfileView object at 0x7fa6b91c92d0>, 'chlorides': <whylogs.core.view.column_profile_view.ColumnProfileView object at 0x7fa6b91c8550>, 'citric acid': <whylogs.core.view.column_profile_view.ColumnProfileView object at 0x7fa6b91ca810>, 'density': <whylogs.core.view.column_profile_view.ColumnProfileView object at 0x7fa6b91ec650>, 'fixed acidity': <whylogs.core.view.column_profile_view.ColumnProfileView object at 0x7fa6b91ed890>, 'free sulfur dioxide': <whylogs.core.view.column_profile_view.ColumnProfileView object at 0x7fa6b91eec10>, 'pH': <whylogs.core.view.column_profile_view.ColumnProfileView object at 0x7fa6b91ee610>, 'quality': <whylogs.core.view.column_profile_view.ColumnProfileView object at 0x7fa6b91ca690>, 'residual sugar': <whylogs.core.view.column_profile_view.ColumnProfileView object at 0x7fa6b91f4950>, 'sulphates': <whylogs.core.view.column_profile_view.ColumnProfileView object at 0x7fa6b91f7a10>, 'total sulfur dioxide': <whylogs.core.view.column_profile_view.ColumnProfileView object at 0x7fa6b91cab50>, 'volatile acidity': <whylogs.core.view.column_profile_view.ColumnProfileView object at 0x7fa6b90094d0>}\n"
     ]
    }
   ],
   "source": [
    "print(column_views_dict)"
   ]
  },
  {
   "cell_type": "code",
   "execution_count": 12,
   "id": "a283cd93-b99e-4d24-8ec7-60feedecb953",
   "metadata": {},
   "outputs": [
    {
     "data": {
      "text/plain": [
       "(1599, 1599)"
      ]
     },
     "execution_count": 12,
     "metadata": {},
     "output_type": "execute_result"
    }
   ],
   "source": [
    "column_views_dict[\"density\"].get_metric(\"counts\").n.value, spark_dataframe.count()"
   ]
  },
  {
   "cell_type": "code",
   "execution_count": 13,
   "id": "c29770ac-0a7f-47f8-83ab-25413c0e050c",
   "metadata": {},
   "outputs": [
    {
     "data": {
      "text/plain": [
       "0.9967466791744841"
      ]
     },
     "execution_count": 13,
     "metadata": {},
     "output_type": "execute_result"
    }
   ],
   "source": [
    "column_views_dict[\"density\"].get_metric(\"distribution\").mean.value"
   ]
  },
  {
   "cell_type": "code",
   "execution_count": 15,
   "id": "2ef916eb-5417-4785-b196-4bc2f94343e4",
   "metadata": {},
   "outputs": [
    {
     "name": "stdout",
     "output_type": "stream",
     "text": [
      "+------------------+\n",
      "|      avg(density)|\n",
      "+------------------+\n",
      "|0.9967466791744831|\n",
      "+------------------+\n",
      "\n"
     ]
    }
   ],
   "source": [
    "from pyspark.sql.functions import mean\n",
    "spark_dataframe.select(mean(\"density\")).show()"
   ]
  },
  {
   "cell_type": "code",
   "execution_count": 16,
   "id": "371c0914-e45d-4cc3-b59c-f9abfdd733f6",
   "metadata": {},
   "outputs": [],
   "source": [
    "from whylogs.api.pyspark.experimental import collect_dataset_profile_view\n",
    "dataset_profile_view = collect_dataset_profile_view(input_df=spark_dataframe)"
   ]
  },
  {
   "cell_type": "code",
   "execution_count": 17,
   "id": "c3549439-f7e4-44cf-8446-a8ccab2b69ad",
   "metadata": {},
   "outputs": [
    {
     "data": {
      "text/html": [
       "<div>\n",
       "<style scoped>\n",
       "    .dataframe tbody tr th:only-of-type {\n",
       "        vertical-align: middle;\n",
       "    }\n",
       "\n",
       "    .dataframe tbody tr th {\n",
       "        vertical-align: top;\n",
       "    }\n",
       "\n",
       "    .dataframe thead th {\n",
       "        text-align: right;\n",
       "    }\n",
       "</style>\n",
       "<table border=\"1\" class=\"dataframe\">\n",
       "  <thead>\n",
       "    <tr style=\"text-align: right;\">\n",
       "      <th></th>\n",
       "      <th>cardinality/est</th>\n",
       "      <th>cardinality/lower_1</th>\n",
       "      <th>cardinality/upper_1</th>\n",
       "      <th>counts/inf</th>\n",
       "      <th>counts/n</th>\n",
       "      <th>counts/nan</th>\n",
       "      <th>counts/null</th>\n",
       "      <th>counts/true</th>\n",
       "      <th>distribution/max</th>\n",
       "      <th>distribution/mean</th>\n",
       "      <th>...</th>\n",
       "      <th>type</th>\n",
       "      <th>types/boolean</th>\n",
       "      <th>types/fractional</th>\n",
       "      <th>types/integral</th>\n",
       "      <th>types/object</th>\n",
       "      <th>types/string</th>\n",
       "      <th>types/tensor</th>\n",
       "      <th>frequent_items/frequent_strings</th>\n",
       "      <th>ints/max</th>\n",
       "      <th>ints/min</th>\n",
       "    </tr>\n",
       "    <tr>\n",
       "      <th>column</th>\n",
       "      <th></th>\n",
       "      <th></th>\n",
       "      <th></th>\n",
       "      <th></th>\n",
       "      <th></th>\n",
       "      <th></th>\n",
       "      <th></th>\n",
       "      <th></th>\n",
       "      <th></th>\n",
       "      <th></th>\n",
       "      <th></th>\n",
       "      <th></th>\n",
       "      <th></th>\n",
       "      <th></th>\n",
       "      <th></th>\n",
       "      <th></th>\n",
       "      <th></th>\n",
       "      <th></th>\n",
       "      <th></th>\n",
       "      <th></th>\n",
       "      <th></th>\n",
       "    </tr>\n",
       "  </thead>\n",
       "  <tbody>\n",
       "    <tr>\n",
       "      <th>alcohol</th>\n",
       "      <td>65.000010</td>\n",
       "      <td>65.000000</td>\n",
       "      <td>65.003256</td>\n",
       "      <td>0</td>\n",
       "      <td>1599</td>\n",
       "      <td>0</td>\n",
       "      <td>0</td>\n",
       "      <td>0</td>\n",
       "      <td>14.90000</td>\n",
       "      <td>10.422983</td>\n",
       "      <td>...</td>\n",
       "      <td>SummaryType.COLUMN</td>\n",
       "      <td>0</td>\n",
       "      <td>1599</td>\n",
       "      <td>0</td>\n",
       "      <td>0</td>\n",
       "      <td>0</td>\n",
       "      <td>0</td>\n",
       "      <td>NaN</td>\n",
       "      <td>NaN</td>\n",
       "      <td>NaN</td>\n",
       "    </tr>\n",
       "    <tr>\n",
       "      <th>chlorides</th>\n",
       "      <td>153.000058</td>\n",
       "      <td>153.000000</td>\n",
       "      <td>153.007697</td>\n",
       "      <td>0</td>\n",
       "      <td>1599</td>\n",
       "      <td>0</td>\n",
       "      <td>0</td>\n",
       "      <td>0</td>\n",
       "      <td>0.61100</td>\n",
       "      <td>0.087467</td>\n",
       "      <td>...</td>\n",
       "      <td>SummaryType.COLUMN</td>\n",
       "      <td>0</td>\n",
       "      <td>1599</td>\n",
       "      <td>0</td>\n",
       "      <td>0</td>\n",
       "      <td>0</td>\n",
       "      <td>0</td>\n",
       "      <td>NaN</td>\n",
       "      <td>NaN</td>\n",
       "      <td>NaN</td>\n",
       "    </tr>\n",
       "    <tr>\n",
       "      <th>citric acid</th>\n",
       "      <td>80.000016</td>\n",
       "      <td>80.000000</td>\n",
       "      <td>80.004010</td>\n",
       "      <td>0</td>\n",
       "      <td>1599</td>\n",
       "      <td>0</td>\n",
       "      <td>0</td>\n",
       "      <td>0</td>\n",
       "      <td>1.00000</td>\n",
       "      <td>0.270976</td>\n",
       "      <td>...</td>\n",
       "      <td>SummaryType.COLUMN</td>\n",
       "      <td>0</td>\n",
       "      <td>1599</td>\n",
       "      <td>0</td>\n",
       "      <td>0</td>\n",
       "      <td>0</td>\n",
       "      <td>0</td>\n",
       "      <td>NaN</td>\n",
       "      <td>NaN</td>\n",
       "      <td>NaN</td>\n",
       "    </tr>\n",
       "    <tr>\n",
       "      <th>density</th>\n",
       "      <td>439.557368</td>\n",
       "      <td>433.943761</td>\n",
       "      <td>445.310933</td>\n",
       "      <td>0</td>\n",
       "      <td>1599</td>\n",
       "      <td>0</td>\n",
       "      <td>0</td>\n",
       "      <td>0</td>\n",
       "      <td>1.00369</td>\n",
       "      <td>0.996747</td>\n",
       "      <td>...</td>\n",
       "      <td>SummaryType.COLUMN</td>\n",
       "      <td>0</td>\n",
       "      <td>1599</td>\n",
       "      <td>0</td>\n",
       "      <td>0</td>\n",
       "      <td>0</td>\n",
       "      <td>0</td>\n",
       "      <td>NaN</td>\n",
       "      <td>NaN</td>\n",
       "      <td>NaN</td>\n",
       "    </tr>\n",
       "    <tr>\n",
       "      <th>fixed acidity</th>\n",
       "      <td>96.000023</td>\n",
       "      <td>96.000000</td>\n",
       "      <td>96.004816</td>\n",
       "      <td>0</td>\n",
       "      <td>1599</td>\n",
       "      <td>0</td>\n",
       "      <td>0</td>\n",
       "      <td>0</td>\n",
       "      <td>15.90000</td>\n",
       "      <td>8.319637</td>\n",
       "      <td>...</td>\n",
       "      <td>SummaryType.COLUMN</td>\n",
       "      <td>0</td>\n",
       "      <td>1599</td>\n",
       "      <td>0</td>\n",
       "      <td>0</td>\n",
       "      <td>0</td>\n",
       "      <td>0</td>\n",
       "      <td>NaN</td>\n",
       "      <td>NaN</td>\n",
       "      <td>NaN</td>\n",
       "    </tr>\n",
       "  </tbody>\n",
       "</table>\n",
       "<p>5 rows × 32 columns</p>\n",
       "</div>"
      ],
      "text/plain": [
       "               cardinality/est  cardinality/lower_1  cardinality/upper_1  \\\n",
       "column                                                                     \n",
       "alcohol              65.000010            65.000000            65.003256   \n",
       "chlorides           153.000058           153.000000           153.007697   \n",
       "citric acid          80.000016            80.000000            80.004010   \n",
       "density             439.557368           433.943761           445.310933   \n",
       "fixed acidity        96.000023            96.000000            96.004816   \n",
       "\n",
       "               counts/inf  counts/n  counts/nan  counts/null  counts/true  \\\n",
       "column                                                                      \n",
       "alcohol                 0      1599           0            0            0   \n",
       "chlorides               0      1599           0            0            0   \n",
       "citric acid             0      1599           0            0            0   \n",
       "density                 0      1599           0            0            0   \n",
       "fixed acidity           0      1599           0            0            0   \n",
       "\n",
       "               distribution/max  distribution/mean  ...                type  \\\n",
       "column                                              ...                       \n",
       "alcohol                14.90000          10.422983  ...  SummaryType.COLUMN   \n",
       "chlorides               0.61100           0.087467  ...  SummaryType.COLUMN   \n",
       "citric acid             1.00000           0.270976  ...  SummaryType.COLUMN   \n",
       "density                 1.00369           0.996747  ...  SummaryType.COLUMN   \n",
       "fixed acidity          15.90000           8.319637  ...  SummaryType.COLUMN   \n",
       "\n",
       "               types/boolean  types/fractional  types/integral  types/object  \\\n",
       "column                                                                         \n",
       "alcohol                    0              1599               0             0   \n",
       "chlorides                  0              1599               0             0   \n",
       "citric acid                0              1599               0             0   \n",
       "density                    0              1599               0             0   \n",
       "fixed acidity              0              1599               0             0   \n",
       "\n",
       "               types/string  types/tensor  frequent_items/frequent_strings  \\\n",
       "column                                                                       \n",
       "alcohol                   0             0                              NaN   \n",
       "chlorides                 0             0                              NaN   \n",
       "citric acid               0             0                              NaN   \n",
       "density                   0             0                              NaN   \n",
       "fixed acidity             0             0                              NaN   \n",
       "\n",
       "               ints/max  ints/min  \n",
       "column                             \n",
       "alcohol             NaN       NaN  \n",
       "chlorides           NaN       NaN  \n",
       "citric acid         NaN       NaN  \n",
       "density             NaN       NaN  \n",
       "fixed acidity       NaN       NaN  \n",
       "\n",
       "[5 rows x 32 columns]"
      ]
     },
     "execution_count": 17,
     "metadata": {},
     "output_type": "execute_result"
    }
   ],
   "source": [
    "import pandas as pd\n",
    "dataset_profile_view.to_pandas().head()"
   ]
  },
  {
   "cell_type": "code",
   "execution_count": 19,
   "id": "f14002d5-f6dd-4bca-ad47-a28d0d2f4a60",
   "metadata": {},
   "outputs": [
    {
     "name": "stderr",
     "output_type": "stream",
     "text": [
      "/tmp/ipykernel_8851/1639794314.py:1: DeprecationWarning: please use a Writer\n",
      "  dataset_profile_view.write(path=\"wine_profile.csv\")\n"
     ]
    },
    {
     "data": {
      "text/plain": [
       "(True, 'wine_profile.csv')"
      ]
     },
     "execution_count": 19,
     "metadata": {},
     "output_type": "execute_result"
    }
   ],
   "source": [
    "dataset_profile_view.write(path=\"wine_profile.csv\")"
   ]
  },
  {
   "cell_type": "code",
   "execution_count": null,
   "id": "e9182388-9b38-4171-96fb-a36c9ed6818b",
   "metadata": {},
   "outputs": [],
   "source": []
  }
 ],
 "metadata": {
  "kernelspec": {
   "display_name": "Python 3 (ipykernel)",
   "language": "python",
   "name": "python3"
  },
  "language_info": {
   "codemirror_mode": {
    "name": "ipython",
    "version": 3
   },
   "file_extension": ".py",
   "mimetype": "text/x-python",
   "name": "python",
   "nbconvert_exporter": "python",
   "pygments_lexer": "ipython3",
   "version": "3.11.10"
  }
 },
 "nbformat": 4,
 "nbformat_minor": 5
}
